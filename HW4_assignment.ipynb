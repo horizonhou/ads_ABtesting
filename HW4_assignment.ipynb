{
 "cells": [
  {
   "cell_type": "markdown",
   "metadata": {},
   "source": [
    "# ORIE 5355/INFO 5370 HW 4: Experimentation"
   ]
  },
  {
   "cell_type": "markdown",
   "metadata": {},
   "source": [
    " - Name: Ruize Hou\n",
    " - Net-id: rh553\n",
    " - Date: 10/30/2022\n",
    " - Late days used for this assignment: 2\n",
    " - Total late days used (counting this assignment): 3\n",
    " - People with whom you discussed this assignment: "
   ]
  },
  {
   "cell_type": "markdown",
   "metadata": {},
   "source": [
    "After you finish the homework, please complete the following (short, anonymous) post-homework survey: https://forms.gle/4VktRpcRxxc7JCsD9 and include the survey completion code below."
   ]
  },
  {
   "cell_type": "markdown",
   "metadata": {},
   "source": [
    "### Question 0 [1 points]\n",
    "<font color='blue'> Survey completion code: hw4_2021dfg"
   ]
  },
  {
   "cell_type": "markdown",
   "metadata": {},
   "source": [
    "# Conceptual component [6 points]"
   ]
  },
  {
   "cell_type": "markdown",
   "metadata": {},
   "source": [
    "### Personal reflection"
   ]
  },
  {
   "cell_type": "markdown",
   "metadata": {},
   "source": [
    "<font color='blue'> Think back to a time that you wanted to evaluate an idea or product. If you have not had such an idea before, you may answer these questions about an article in the news that reported such a feature, or a feature that you think might be in deployment at a company or organization with which you interact (for example, Amazon, Google, Facebook, etc). "
   ]
  },
  {
   "cell_type": "markdown",
   "metadata": {},
   "source": [
    "<font color='blue'> Briefly summarize the scenario in no more than two sentences. "
   ]
  },
  {
   "cell_type": "markdown",
   "metadata": {},
   "source": [
    "We want to test an implementation of a new icon on the B2B lending app. We want to see whether the new icon will give us a higher conversion rate."
   ]
  },
  {
   "cell_type": "markdown",
   "metadata": {},
   "source": [
    "<font color='blue'> What was the objective that you cared about/wanted to optimize with the product/idea? What was the measurement that you could feasibly measure during the experimental period? In what ways did the measurement not match the objective you cared about? Answer in no more than 3 sentences.  "
   ]
  },
  {
   "cell_type": "markdown",
   "metadata": {},
   "source": [
    "We want to improve the user conversion rate by using a new icon in the service browsing stage. We want to calculate the portion of users who reach the icon site that clicked on the icon. The measurement aligns with our objective."
   ]
  },
  {
   "cell_type": "markdown",
   "metadata": {},
   "source": [
    "<font color='blue'> Did the setting have interference (such as due to a network setting, interference through a 2 sided marketplace or capacity constraints, etc.)? If so, how did it effect your experimental design and results? If your answer is no, why are you sure that such interference did not happen? Answer in no more than 3 sentences.  "
   ]
  },
  {
   "cell_type": "markdown",
   "metadata": {},
   "source": [
    "It is possible that there is interference through network effect and competition. Because since our company is an online shopping platform, our business users are all individual brands or retailers that may be connected. Also, there might exist competition that a treated user is converted to a lending service user will incent the control group to also pursue the service."
   ]
  },
  {
   "cell_type": "markdown",
   "metadata": {},
   "source": [
    "<font color='blue'> Given what we have learned in class so far, what would you do differently if faced with the same scenario again? Answer in no more than 3 sentences. "
   ]
  },
  {
   "cell_type": "markdown",
   "metadata": {},
   "source": [
    "I will probably use cluster randomization technique to minize the interference caused by network effect. I will make connections between possible substitutes as the network."
   ]
  },
  {
   "cell_type": "markdown",
   "metadata": {},
   "source": [
    "# Programming component"
   ]
  },
  {
   "cell_type": "markdown",
   "metadata": {},
   "source": [
    "## Helper code"
   ]
  },
  {
   "cell_type": "code",
   "execution_count": 1,
   "metadata": {},
   "outputs": [],
   "source": [
    "import numpy as np\n",
    "import pandas as pd\n",
    "import os, sys, math\n",
    "import matplotlib.pyplot as plt"
   ]
  },
  {
   "cell_type": "code",
   "execution_count": 2,
   "metadata": {},
   "outputs": [],
   "source": [
    "df_headlines = pd.read_csv('headline-experiment-heds.csv')\n",
    "df = pd.read_csv('headline-experiment-impressions.csv')"
   ]
  },
  {
   "cell_type": "code",
   "execution_count": 3,
   "metadata": {},
   "outputs": [
    {
     "name": "stdout",
     "output_type": "stream",
     "text": [
      "She's Not Just Destined For Greatness, She's Destined To Do Great Things For Women\n",
      "This Young Woman Just Took Silicon Valley By Storm And She's Not Stopping There\n",
      "Feminism 101: This Girl Is Going Places And She's Taking Other Girls With Her \n",
      "Remember When Math Was \"Too Hard\" For The Ladies? Not So Much.\n"
     ]
    }
   ],
   "source": [
    "for x in df_headlines.hed:\n",
    "    print(x)"
   ]
  },
  {
   "cell_type": "code",
   "execution_count": 4,
   "metadata": {},
   "outputs": [
    {
     "name": "stdout",
     "output_type": "stream",
     "text": [
      "<class 'pandas.core.frame.DataFrame'>\n",
      "RangeIndex: 14950 entries, 0 to 14949\n",
      "Data columns (total 2 columns):\n",
      "hed      14950 non-null int64\n",
      "click    14950 non-null int64\n",
      "dtypes: int64(2)\n",
      "memory usage: 233.7 KB\n"
     ]
    }
   ],
   "source": [
    "df.info()"
   ]
  },
  {
   "cell_type": "code",
   "execution_count": 5,
   "metadata": {},
   "outputs": [
    {
     "data": {
      "text/plain": [
       "3    3763\n",
       "1    3756\n",
       "4    3737\n",
       "2    3694\n",
       "Name: hed, dtype: int64"
      ]
     },
     "execution_count": 5,
     "metadata": {},
     "output_type": "execute_result"
    }
   ],
   "source": [
    "df.hed.value_counts()"
   ]
  },
  {
   "cell_type": "code",
   "execution_count": 6,
   "metadata": {},
   "outputs": [
    {
     "data": {
      "text/plain": [
       "hed\n",
       "1    0.010650\n",
       "2    0.006497\n",
       "3    0.010098\n",
       "4    0.004549\n",
       "Name: click, dtype: float64"
      ]
     },
     "execution_count": 6,
     "metadata": {},
     "output_type": "execute_result"
    }
   ],
   "source": [
    "df.groupby('hed')['click'].mean()"
   ]
  },
  {
   "cell_type": "markdown",
   "metadata": {},
   "source": [
    "df_headlines has a list of 4 headlines for the same article from Upworthy. df is a dataframe where each row represents a user. `hed` indicates which headline was shown to the user, and `click` is a binary indicator for whether the user clicked on the headline. A `1` represents a click, and so, for example, headline 2 was clicked on 0.6\\% of the time. Each headline was shown to about 3700 users."
   ]
  },
  {
   "cell_type": "markdown",
   "metadata": {},
   "source": [
    "I recommend reading the following post: https://towardsdatascience.com/ab-testing-with-python-e5964dd66143"
   ]
  },
  {
   "cell_type": "markdown",
   "metadata": {},
   "source": [
    "In this homework, we will only be working with the first two headlines:"
   ]
  },
  {
   "cell_type": "code",
   "execution_count": 7,
   "metadata": {},
   "outputs": [],
   "source": [
    "df = df.query('hed==1 or hed==2')"
   ]
  },
  {
   "cell_type": "code",
   "execution_count": 8,
   "metadata": {},
   "outputs": [
    {
     "name": "stdout",
     "output_type": "stream",
     "text": [
      "<class 'pandas.core.frame.DataFrame'>\n",
      "Int64Index: 7450 entries, 1 to 14949\n",
      "Data columns (total 2 columns):\n",
      "hed      7450 non-null int64\n",
      "click    7450 non-null int64\n",
      "dtypes: int64(2)\n",
      "memory usage: 174.6 KB\n"
     ]
    }
   ],
   "source": [
    "df.info()"
   ]
  },
  {
   "cell_type": "markdown",
   "metadata": {},
   "source": [
    "# Problem 1: Simple A/B tests, and dependence on sample size"
   ]
  },
  {
   "cell_type": "markdown",
   "metadata": {},
   "source": [
    "## Problem 1a: Simple A/B testing (3 pts)"
   ]
  },
  {
   "cell_type": "markdown",
   "metadata": {},
   "source": [
    "First, what do the results look like if we use all the data?"
   ]
  },
  {
   "cell_type": "markdown",
   "metadata": {},
   "source": [
    "Here, you will want to use the functions under \"4. Testing the hypothesis\" in the above blog post. In particular you will want to test the \"1 sided\" hypothesis that headline 1 is better than headline 2. (In statsmodels.stats.proportion.proportions_ztest, use alternative='larger', and put headline 1 first in the data.)\n",
    "\n",
    "https://www.statsmodels.org/stable/generated/statsmodels.stats.proportion.proportions_ztest.html\n"
   ]
  },
  {
   "cell_type": "markdown",
   "metadata": {},
   "source": [
    "<font color='blue'> If you use all the data (all the entries in the dataframe), what is the mean click through rate for each headline?"
   ]
  },
  {
   "cell_type": "code",
   "execution_count": 12,
   "metadata": {},
   "outputs": [
    {
     "name": "stdout",
     "output_type": "stream",
     "text": [
      "mean click through rate for headline 1 is 0.010649627263045794\n",
      "mean click through rate for headline 2 is 0.006497022198159177\n"
     ]
    }
   ],
   "source": [
    "head1 = df.query('hed == 1')\n",
    "head2 = df.query('hed == 2')\n",
    "mean_head1 = np.mean(head1['click'])\n",
    "mean_head2 = np.mean(head2['click'])\n",
    "print(\"mean click through rate for headline 1 is\", np.mean(head1['click']))\n",
    "print(\"mean click through rate for headline 2 is\", np.mean(head2['click']))"
   ]
  },
  {
   "cell_type": "markdown",
   "metadata": {},
   "source": [
    "<font color='blue'> If you use all the data, what is the p-value for the hypothesis that the first headline is better than the second headline?"
   ]
  },
  {
   "cell_type": "code",
   "execution_count": 13,
   "metadata": {},
   "outputs": [],
   "source": [
    "from statsmodels.stats.proportion import proportions_ztest"
   ]
  },
  {
   "cell_type": "code",
   "execution_count": 23,
   "metadata": {},
   "outputs": [
    {
     "data": {
      "text/plain": [
       "0.006497022198159177"
      ]
     },
     "execution_count": 23,
     "metadata": {},
     "output_type": "execute_result"
    }
   ],
   "source": [
    "mean_head2"
   ]
  },
  {
   "cell_type": "code",
   "execution_count": 51,
   "metadata": {},
   "outputs": [],
   "source": [
    "clicks = [head1['click'].sum(), head2['click'].sum()]\n",
    "nobs = [len(head1), len(head2)]"
   ]
  },
  {
   "cell_type": "code",
   "execution_count": 52,
   "metadata": {},
   "outputs": [],
   "source": [
    "stat, pval = proportions_ztest(clicks, nobs, alternative = 'larger')"
   ]
  },
  {
   "cell_type": "code",
   "execution_count": 53,
   "metadata": {},
   "outputs": [
    {
     "data": {
      "text/plain": [
       "0.026077716204709694"
      ]
     },
     "execution_count": 53,
     "metadata": {},
     "output_type": "execute_result"
    }
   ],
   "source": [
    "pval"
   ]
  },
  {
   "cell_type": "markdown",
   "metadata": {},
   "source": [
    "<font color='blue'> If you use all the data, what are the confidence intervals for the click through rates for each headline?\n",
    "\n",
    "For example, we got Headline 1: (0.0074, 0.0139)"
   ]
  },
  {
   "cell_type": "code",
   "execution_count": 26,
   "metadata": {},
   "outputs": [],
   "source": [
    "from statsmodels.stats.proportion import proportion_confint"
   ]
  },
  {
   "cell_type": "code",
   "execution_count": 54,
   "metadata": {},
   "outputs": [],
   "source": [
    "(lower_con, lower_treat), (upper_con, upper_treat) = proportion_confint(clicks, nobs=nobs, alpha=0.05)"
   ]
  },
  {
   "cell_type": "code",
   "execution_count": 57,
   "metadata": {},
   "outputs": [
    {
     "name": "stdout",
     "output_type": "stream",
     "text": [
      "ci 95% for headline1 group: [0.0074, 0.0139]\n",
      "ci 95% for headline2 group: [0.0039, 0.0091]\n"
     ]
    }
   ],
   "source": [
    "print(f'ci 95% for headline1 group: [{lower_con:.4f}, {upper_con:.4f}]')\n",
    "print(f'ci 95% for headline2 group: [{lower_treat:.4f}, {upper_treat:.4f}]')"
   ]
  },
  {
   "cell_type": "markdown",
   "metadata": {},
   "source": [
    "<font color='blue'> Interpret the above, in no more than 3 sentences"
   ]
  },
  {
   "cell_type": "markdown",
   "metadata": {},
   "source": [
    "We can see that using the whole sample, our result shows that the click on headline1 is significantly larger than click on headline2 under 0.05 significancy level as the p-value 0.026 is smaller than 0.05. We can also see that the mean of headline is not captured by the 95% confidence interval for headline1, which also tells us headline1 is significantly better than headline2."
   ]
  },
  {
   "cell_type": "markdown",
   "metadata": {},
   "source": [
    "## Problem 1b: Experimentation with lower sample sizes (3 pts)"
   ]
  },
  {
   "cell_type": "markdown",
   "metadata": {},
   "source": [
    "Now, we'll see how often we would make the \"wrong\" decision if we instead had run an experiment with a lower sample size. We do this via a method called \"bootstrapping\" -- we 're-sample' from the data that we actually saw, in order to estimate what would have happened via counter-factual experiments.  "
   ]
  },
  {
   "cell_type": "markdown",
   "metadata": {},
   "source": [
    "<font color='blue'> Complete the following function, which does the following: it simulates 1000 fake experiments; each fake experiment, we sample `overall_sample_size` users and pretend that those users made up the experiment. \n",
    "    \n",
    "<font color='blue'> We want to store:\n",
    "    \n",
    "- the distribution of click-through-rate estimates for each headline (we do this for you)\n",
    "\n",
    "- the fraction of experiments in which headline 1 was found to be better than headline 2\n",
    "\n",
    "Here, we're going to say the experiment found that headline 1 was better than headline 2 if it had a higher click fraction, even if it wasn't statistically significant (regardless of p value)."
   ]
  },
  {
   "cell_type": "code",
   "execution_count": 104,
   "metadata": {},
   "outputs": [],
   "source": [
    "def get_estimates_from_bootstrapping(df, overall_sample_size = 100):\n",
    "    estimates = {hed: [] for hed in df.hed.unique()} # for each headline, store the mean estimates\n",
    "    number_of_headlines_1_better_than_2 = 0\n",
    "    for _ in range(1000): # simulate 1000 fake experiments (\"bootstrapping\")\n",
    "        df_sample = df.sample(overall_sample_size)\n",
    "        means = df_sample.groupby('hed')['click'].mean()\n",
    "        for en, mean in enumerate(means):\n",
    "            estimates[en+1].append(mean)\n",
    "        ### TODO complete code here for number_of_headlines_1_better_than_2\n",
    "        #number_of_headlines_1_better_than_2 += df_sample.query('hed == 1')['click'].mean() - df_sample.query('hed == 2')['click'].mean()\n",
    "        mean_head1 = means[1]\n",
    "        mean_head2 = means[2]\n",
    "        if mean_head1 > mean_head2:\n",
    "            number_of_headlines_1_better_than_2 += 1\n",
    "            \n",
    "    \n",
    "    return estimates, number_of_headlines_1_better_than_2/1000\n",
    "    "
   ]
  },
  {
   "cell_type": "code",
   "execution_count": 97,
   "metadata": {},
   "outputs": [],
   "source": [
    "means = df.groupby('hed')['click'].mean()"
   ]
  },
  {
   "cell_type": "code",
   "execution_count": 100,
   "metadata": {},
   "outputs": [
    {
     "data": {
      "text/plain": [
       "True"
      ]
     },
     "execution_count": 100,
     "metadata": {},
     "output_type": "execute_result"
    }
   ],
   "source": [
    "means[1]>means[2]"
   ]
  },
  {
   "cell_type": "markdown",
   "metadata": {},
   "source": [
    "<font color='blue'> For each of overall_sample_size in [100, 1000, 5000] plot a histogram of the estimates for each headline. You should have 3 plots, each plot corresponding to 1 sample size number and containing 2 histograms, 1 for each headline.\n",
    "\n",
    "\n"
   ]
  },
  {
   "cell_type": "code",
   "execution_count": null,
   "metadata": {},
   "outputs": [],
   "source": []
  },
  {
   "cell_type": "code",
   "execution_count": 62,
   "metadata": {},
   "outputs": [],
   "source": [
    "sample_size_numbers = list(range(100, 6000, 500))"
   ]
  },
  {
   "cell_type": "code",
   "execution_count": 63,
   "metadata": {},
   "outputs": [],
   "source": [
    "estimates, number_of_headlines_1_better_than_2 = get_estimates_from_bootstrapping(df, overall_sample_size = 100)"
   ]
  },
  {
   "cell_type": "code",
   "execution_count": 72,
   "metadata": {},
   "outputs": [
    {
     "data": {
      "image/png": "[encoded data removed]",
      "text/plain": [
       "<Figure size 432x288 with 1 Axes>"
      ]
     },
     "metadata": {
      "needs_background": "light"
     },
     "output_type": "display_data"
    }
   ],
   "source": [
    "plt.hist(estimates[1], alpha=0.5, label='headline1')\n",
    "plt.hist(estimates[2], alpha=0.5, label='headline2')\n",
    "plt.title('Sample size = 100')\n",
    "plt.legend(loc='upper right')\n",
    "plt.show()"
   ]
  },
  {
   "cell_type": "code",
   "execution_count": 73,
   "metadata": {},
   "outputs": [
    {
     "data": {
      "image/png": "[encoded data removed]",
      "text/plain": [
       "<Figure size 432x288 with 1 Axes>"
      ]
     },
     "metadata": {
      "needs_background": "light"
     },
     "output_type": "display_data"
    }
   ],
   "source": [
    "estimates, number_of_headlines_1_better_than_2 = get_estimates_from_bootstrapping(df, overall_sample_size = 1000)\n",
    "plt.hist(estimates[1], alpha=0.5, label='headline1')\n",
    "plt.hist(estimates[2], alpha=0.5, label='headline2')\n",
    "plt.title('Sample size = 100')\n",
    "plt.legend(loc='upper right')\n",
    "plt.show()"
   ]
  },
  {
   "cell_type": "code",
   "execution_count": 74,
   "metadata": {},
   "outputs": [
    {
     "data": {
      "image/png": "[encoded data removed]",
      "text/plain": [
       "<Figure size 432x288 with 1 Axes>"
      ]
     },
     "metadata": {
      "needs_background": "light"
     },
     "output_type": "display_data"
    }
   ],
   "source": [
    "estimates, number_of_headlines_1_better_than_2 = get_estimates_from_bootstrapping(df, overall_sample_size = 5000)\n",
    "plt.hist(estimates[1], alpha=0.5, label='headline1')\n",
    "plt.hist(estimates[2], alpha=0.5, label='headline2')\n",
    "plt.title('Sample size = 100')\n",
    "plt.legend(loc='upper right')\n",
    "plt.show()"
   ]
  },
  {
   "cell_type": "markdown",
   "metadata": {},
   "source": [
    "<font color='blue'> For each of overall_sample_size in sample_size_numbers, get the fraction of experiments in which headline 1 was found to be better than headline 2. Plot a line plot where the X axis is the sample size, and the Y axis is the fraction of times. Note that this code might take a minute or so to run. Note: your line plot should be increasing in the sample size (Why?)\n",
    "\n",
    "For example, with 100 samples, we got: ~0.36. For 1100 samples, we got  0.788. \n"
   ]
  },
  {
   "cell_type": "code",
   "execution_count": 110,
   "metadata": {},
   "outputs": [
    {
     "data": {
      "text/plain": [
       "0.818"
      ]
     },
     "execution_count": 110,
     "metadata": {},
     "output_type": "execute_result"
    }
   ],
   "source": [
    "estimates, number_of_headlines_1_better_than_2 = get_estimates_from_bootstrapping(df, overall_sample_size = 1100)\n",
    "number_of_headlines_1_better_than_2"
   ]
  },
  {
   "cell_type": "code",
   "execution_count": 111,
   "metadata": {},
   "outputs": [],
   "source": [
    "fraction_better = []\n",
    "for n in sample_size_numbers:\n",
    "    estimates, number_of_headlines_1_better_than_2 = get_estimates_from_bootstrapping(df, overall_sample_size = n)\n",
    "    fraction_better.append(number_of_headlines_1_better_than_2)"
   ]
  },
  {
   "cell_type": "code",
   "execution_count": 113,
   "metadata": {},
   "outputs": [
    {
     "data": {
      "image/png": "[encoded data removed]",
      "text/plain": [
       "<Figure size 432x288 with 1 Axes>"
      ]
     },
     "metadata": {
      "needs_background": "light"
     },
     "output_type": "display_data"
    }
   ],
   "source": [
    "plt.plot(sample_size_numbers, fraction_better)\n",
    "plt.title('fraction of times headline1 > headline2')\n",
    "plt.show()"
   ]
  },
  {
   "cell_type": "markdown",
   "metadata": {},
   "source": [
    "<font color='blue'> Intepret the above, in no more than 3 sentences."
   ]
  },
  {
   "cell_type": "markdown",
   "metadata": {},
   "source": [
    "We can see that the fraction of times headline1 has more clicks than headline2 is increasing with the sample size."
   ]
  },
  {
   "cell_type": "markdown",
   "metadata": {},
   "source": [
    "## Problem 2: Peeking (6 points)"
   ]
  },
  {
   "cell_type": "markdown",
   "metadata": {},
   "source": [
    "Now, we'll illustrate the problem of \"peeking\" in experiments. Suppose you're a headline writer, and you personally wrote headline 2 and are now running the AB test. So, you have a maximum experiment budget of 2000 users. Each user comes in sequentially and is assigned either the first or second headline. Now, you also realize that experimentation is wasteful, and so you want to minimize the amount of time you're spending in the experiment.\n",
    "\n",
    "So, you do the following: after each 20th user comes in and either clicks on the headline or doesn't, you check if headline 2 has a higher click fraction than headline 1. If it does, you declare victory and stop the experiment. Otherwise, you continue. \n",
    "\n",
    "Now, we'll want to calculate: how often does the above procedure lead to you declaring victory, that headline 2 is better than headline 1?\n",
    "\n",
    "Here, we will walk you through simulating the above procedure. As before, we will simulate 1000 fake experiments, to get a good estimate of what the above procedure behaves like.  "
   ]
  },
  {
   "cell_type": "markdown",
   "metadata": {},
   "source": [
    "<font color='blue'> Finish the below code, to calculate number_of_headlines_2_better_than_1 using the above procedure"
   ]
  },
  {
   "cell_type": "code",
   "execution_count": 214,
   "metadata": {},
   "outputs": [],
   "source": [
    "number_of_headlines_2_better_than_1 = 0\n",
    "\n",
    "for _ in range(1000): # simulate 1000 fake experiments\n",
    "    df_sample = df.sample(2000)\n",
    "    for number_users in range(20, 2001, 20):\n",
    "        df_users_to_far = df_sample.iloc[0:number_users] #grab the first number_users users\n",
    "        #TODO: calculate click fractions for each headline\n",
    "        head1 = df_users_to_far.query('hed == 1')\n",
    "        head2 = df_users_to_far.query('hed == 2')\n",
    "        mean_head1 = head1['click'].mean()\n",
    "        mean_head2 = head2['click'].mean()\n",
    "        #TODO potentially end experiment. The \"break\" keyword in python might come in handy.\n",
    "        # Note that you want to break the inner for loop but not the outer loop (think why). \n",
    "        # Note, you sometimes may get \"unlucky\", and all the first 20 users received the same headline. In that case, continue the experiment without checking the p-value\n",
    "        if len(head1) == 0 or len(head2) == 0:\n",
    "            pass\n",
    "        else:\n",
    "            clicks = [head2['click'].sum(), head1['click'].sum()]\n",
    "            nobs = [len(head2),len(head1)]\n",
    "            stat, pval = proportions_ztest(clicks, nobs, alternative = 'larger')\n",
    "            if pval <= 0.05:\n",
    "                number_of_headlines_2_better_than_1 += 1\n",
    "                break"
   ]
  },
  {
   "cell_type": "code",
   "execution_count": 215,
   "metadata": {
    "scrolled": true
   },
   "outputs": [
    {
     "data": {
      "text/plain": [
       "60"
      ]
     },
     "execution_count": 215,
     "metadata": {},
     "output_type": "execute_result"
    }
   ],
   "source": [
    "number_of_headlines_2_better_than_1"
   ]
  },
  {
   "cell_type": "code",
   "execution_count": null,
   "metadata": {},
   "outputs": [],
   "source": []
  },
  {
   "cell_type": "markdown",
   "metadata": {},
   "source": [
    "<font color='blue'> What fraction of the time does the above procedure declare that headline 2 is better than headline 1?"
   ]
  },
  {
   "cell_type": "code",
   "execution_count": 216,
   "metadata": {},
   "outputs": [
    {
     "data": {
      "text/plain": [
       "0.06"
      ]
     },
     "execution_count": 216,
     "metadata": {},
     "output_type": "execute_result"
    }
   ],
   "source": [
    "number_of_headlines_2_better_than_1/1000"
   ]
  },
  {
   "cell_type": "markdown",
   "metadata": {},
   "source": [
    "<font color='blue'> Interpret the above answer, in no more than 3 sentences. What went wrong?"
   ]
  },
  {
   "cell_type": "markdown",
   "metadata": {},
   "source": [
    "We found that by simply using the method of peeking, 6% of the time, we got a false positive result. We want to avoid false positives because we don't want to waste money to decrease our outcome. Simply using peeking will cause 6% of the time of the experiment to result in a false positive conclusion, so we definitely want to implement some fancy statistics to eliminate the number of false positives."
   ]
  },
  {
   "cell_type": "markdown",
   "metadata": {},
   "source": [
    "Note: In practice, peeking involves not just taking the mean click percentage but also calculating a p-value and only exiting the experiment if the desired direction is statistically significantly better than the other one. Similar results occur in that setting."
   ]
  },
  {
   "cell_type": "markdown",
   "metadata": {},
   "source": []
  }
 ],
 "metadata": {
  "kernelspec": {
   "display_name": "Python 3",
   "language": "python",
   "name": "python3"
  },
  "language_info": {
   "codemirror_mode": {
    "name": "ipython",
    "version": 3
   },
   "file_extension": ".py",
   "mimetype": "text/x-python",
   "name": "python",
   "nbconvert_exporter": "python",
   "pygments_lexer": "ipython3",
   "version": "3.8.8"
  },
  "varInspector": {
   "cols": {
    "lenName": 16,
    "lenType": 16,
    "lenVar": 40
   },
   "kernels_config": {
    "python": {
     "delete_cmd_postfix": "",
     "delete_cmd_prefix": "del ",
     "library": "var_list.py",
     "varRefreshCmd": "print(var_dic_list())"
    },
    "r": {
     "delete_cmd_postfix": ") ",
     "delete_cmd_prefix": "rm(",
     "library": "var_list.r",
     "varRefreshCmd": "cat(var_dic_list()) "
    }
   },
   "types_to_exclude": [
    "module",
    "function",
    "builtin_function_or_method",
    "instance",
    "_Feature"
   ],
   "window_display": false
  },
  "vscode": {
   "interpreter": {
    "hash": "08c7ecce80b69c620dde7c8919fa94d3baa2217d665b4d1ca74ed6f93561aaf3"
   }
  }
 },
 "nbformat": 4,
 "nbformat_minor": 4
}
